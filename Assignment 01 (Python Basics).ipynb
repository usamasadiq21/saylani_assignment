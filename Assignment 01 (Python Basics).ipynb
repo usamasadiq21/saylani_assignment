{
 "cells": [
  {
   "cell_type": "markdown",
   "metadata": {},
   "source": [
    "# Part -1 Python Basics (Variables)"
   ]
  },
  {
   "cell_type": "markdown",
   "metadata": {},
   "source": [
    "1. Print Your Name with your Father name and Date of birth using suitable escape sequence charactor"
   ]
  },
  {
   "cell_type": "code",
   "execution_count": 4,
   "metadata": {},
   "outputs": [
    {
     "name": "stdout",
     "output_type": "stream",
     "text": [
      "My name is saad \n",
      "and my father name is sadiq.\n"
     ]
    }
   ],
   "source": [
    "# Write your code here\n",
    "username = input('Enter your name: ')\n",
    "fathername = input('Enter your Father name: ')\n",
    "print(f\"My name is {username} \\nand my father name is {fathername}.\")"
   ]
  },
  {
   "cell_type": "markdown",
   "metadata": {},
   "source": [
    "2. Write your small bio using variables and print it using print function"
   ]
  },
  {
   "cell_type": "code",
   "execution_count": 6,
   "metadata": {},
   "outputs": [
    {
     "name": "stdout",
     "output_type": "stream",
     "text": [
      "My name is Usama, my age is 22 ,and my present education is graduation. \n",
      "And currently i am studying python-programmng at Saylani under supervison of \n",
      "Sir Qasim Hassan.\n"
     ]
    }
   ],
   "source": [
    "# Write your code here\n",
    "name = input('Enter your Name: ')\n",
    "age = input('Enter your age: ')\n",
    "education = input('Enter your Education: ')\n",
    "print(f'My name is {name}, my age is {age} ,and my present education is {education}. \\nAnd currently i am studying python-programmng at Saylani under supervison of \\nSir Qasim Hassan.')"
   ]
  },
  {
   "cell_type": "markdown",
   "metadata": {},
   "source": [
    "3. Write a program in which use all the operators we can use in Python"
   ]
  },
  {
   "cell_type": "code",
   "execution_count": 16,
   "metadata": {},
   "outputs": [
    {
     "name": "stdout",
     "output_type": "stream",
     "text": [
      "Arithmetic Operators:\n",
      "a + b = 13\n",
      "a - b = 7\n",
      "a * b = 30\n",
      "a / b = 3.3333333333333335\n",
      "a % b = 1\n",
      "a ** b = 1000\n",
      "a // b = 3\n",
      "\n",
      "Comparison Operators:\n",
      "a == b: False\n",
      "a != b: True\n",
      "a > b: True\n",
      "a < b: False\n",
      "a >= b: True\n",
      "a <= b: False\n",
      "\n",
      "Assignment Operators:\n",
      "c += 3: 8\n",
      "c -= 2: 6\n",
      "c *= 4: 24\n",
      "c /= 2: 12.0\n",
      "c %= 3: 0.0\n",
      "c **= 2: 0.0\n",
      "c //= 3: 0.0\n"
     ]
    }
   ],
   "source": [
    "# Write your code here\n",
    "# Arithmetic Operators\n",
    "a = 10\n",
    "b = 3\n",
    "print(\"Arithmetic Operators:\")\n",
    "print(f\"a + b = {a + b}\")  # Addition\n",
    "print(f\"a - b = {a - b}\")  # Subtraction\n",
    "print(f\"a * b = {a * b}\")  # Multiplication\n",
    "print(f\"a / b = {a / b}\")  # Division\n",
    "print(f\"a % b = {a % b}\")  # Modulus\n",
    "print(f\"a ** b = {a ** b}\")  # Exponentiation\n",
    "print(f\"a // b = {a // b}\")  # Floor Division\n",
    "\n",
    "# Comparison Operators\n",
    "print(\"\\nComparison Operators:\")\n",
    "print(f\"a == b: {a == b}\")  # Equal to\n",
    "print(f\"a != b: {a != b}\")  # Not equal to\n",
    "print(f\"a > b: {a > b}\")  # Greater than\n",
    "print(f\"a < b: {a < b}\")  # Less than\n",
    "print(f\"a >= b: {a >= b}\")  # Greater than or equal to\n",
    "print(f\"a <= b: {a <= b}\")  # Less than or equal to\n",
    "\n",
    "# Assignment Operators\n",
    "c = 5\n",
    "print(\"\\nAssignment Operators:\")\n",
    "c += 3\n",
    "print(f\"c += 3: {c}\")  # Equivalent to c = c + 3\n",
    "c -= 2\n",
    "print(f\"c -= 2: {c}\")  # Equivalent to c = c - 2\n",
    "c *= 4\n",
    "print(f\"c *= 4: {c}\")  # Equivalent to c = c * 4\n",
    "c /= 2\n",
    "print(f\"c /= 2: {c}\")  # Equivalent to c = c / 2\n",
    "c %= 3\n",
    "print(f\"c %= 3: {c}\")  # Equivalent to c = c % 3\n",
    "c **= 2\n",
    "print(f\"c **= 2: {c}\")  # Equivalent to c = c ** 2\n",
    "c //= 3\n",
    "print(f\"c //= 3: {c}\")  # Equivalent to c = c // 3"
   ]
  },
  {
   "cell_type": "markdown",
   "metadata": {},
   "source": [
    "4. Completes the following steps of small task:\n",
    "    - Mention Marks of English , Islamiat and Maths out of 100 in 3 different variables\n",
    "    - Mention Variable of Total Marks and assign 300 to it\n",
    "    - Calculate Percentage"
   ]
  },
  {
   "cell_type": "code",
   "execution_count": 17,
   "metadata": {},
   "outputs": [
    {
     "name": "stdout",
     "output_type": "stream",
     "text": [
      "Obtained Marks = 244 \n",
      "Total Marks = 300 \n",
      "Percentage = 81%\n"
     ]
    }
   ],
   "source": [
    "# Write your code here\n",
    "import math\n",
    "english = int(input('Enter your marks of English out of 100 = '))\n",
    "islamiat = int(input('Enter marks of Islamiat out of 100 = '))\n",
    "maths = int(input('Enter marks of Maths out of 100 = '))\n",
    "obtained_marks = english + islamiat + maths\n",
    "total_marks = 300\n",
    "percentage = (obtained_marks/total_marks)*100\n",
    "percentage = math.floor(percentage)\n",
    "\n",
    "print(f\"Obtained Marks = {obtained_marks} \\nTotal Marks = {total_marks} \\nPercentage = {percentage}%\")\n"
   ]
  },
  {
   "cell_type": "markdown",
   "metadata": {},
   "source": [
    "# Part -2 Python Basics (Conditional Statements)"
   ]
  },
  {
   "cell_type": "markdown",
   "metadata": {},
   "source": [
    "1) A company decided to give bonus of 5% to employee if his/her year of service is more than 5 years.\n",
    "Ask user for their salary and year of service and print the net bonus amount."
   ]
  },
  {
   "cell_type": "code",
   "execution_count": 20,
   "metadata": {},
   "outputs": [
    {
     "name": "stdout",
     "output_type": "stream",
     "text": [
      "Your net bonus is 2500.0PKR. \n",
      " And this month your salary will be 52500.0PKR.\n"
     ]
    }
   ],
   "source": [
    "#Type your code here\n",
    "user_salary = int(input('Enter your Salary = '))\n",
    "service_year = int(input('Enter your Service Years = '))\n",
    "if service_year > 5:\n",
    "    user_bonus = user_salary*0.05\n",
    "    print(f'Your net bonus is {user_bonus}PKR. \\nAnd this month your salary will be {user_salary + user_bonus}PKR.')\n",
    "else:\n",
    "    print('Service Years not align with our policy.')"
   ]
  },
  {
   "cell_type": "markdown",
   "metadata": {},
   "source": [
    "\n",
    "2) Write a program to check whether a person is eligible for voting or not. (accept age from user) if age is greater than 17 eligible otherwise not eligible"
   ]
  },
  {
   "cell_type": "code",
   "execution_count": 22,
   "metadata": {},
   "outputs": [
    {
     "name": "stdout",
     "output_type": "stream",
     "text": [
      "Not eligible for voting..\n"
     ]
    }
   ],
   "source": [
    "#Type your code here\n",
    "age = int(input('Enter your Age = '))\n",
    "if age > 17:\n",
    "    print('Eligible for voting..')\n",
    "else:\n",
    "    print('Not eligible for voting..')"
   ]
  },
  {
   "cell_type": "markdown",
   "metadata": {},
   "source": [
    "\n",
    "3) Write a program to check whether a number entered by user is even or odd."
   ]
  },
  {
   "cell_type": "code",
   "execution_count": 28,
   "metadata": {},
   "outputs": [
    {
     "name": "stdout",
     "output_type": "stream",
     "text": [
      "4 is Even.\n"
     ]
    }
   ],
   "source": [
    "#Type your code here\n",
    "user_num = int(input('Enter any number = '))\n",
    "if user_num % 2 == 0:\n",
    "    print(f'{user_num} is Even.')\n",
    "else:\n",
    "    print(f'{user_num} is ODD.')"
   ]
  },
  {
   "cell_type": "markdown",
   "metadata": {},
   "source": [
    "4) Write a program to check whether a number is divisible by 7 or not.\n",
    "Show Answer"
   ]
  },
  {
   "cell_type": "code",
   "execution_count": 30,
   "metadata": {},
   "outputs": [
    {
     "name": "stdout",
     "output_type": "stream",
     "text": [
      "Answer = 11.0\n",
      "77 is divisible by 7.\n"
     ]
    }
   ],
   "source": [
    "#Type your code here\n",
    "user_num2 = int(input('Enter any number = '))\n",
    "if user_num2 % 7 == 0:\n",
    "    print(f'Answer = {user_num2/7}')\n",
    "    print(f'{user_num2} is divisible by 7.')\n",
    "else:\n",
    "    print(f'{user_num} is not divisible by 7.')"
   ]
  },
  {
   "cell_type": "markdown",
   "metadata": {},
   "source": [
    "5) Write a program to display \n",
    "\"Hello\" if a number entered by user is a multiple of five , otherwise print \"Bye\"."
   ]
  },
  {
   "cell_type": "code",
   "execution_count": 35,
   "metadata": {},
   "outputs": [
    {
     "name": "stdout",
     "output_type": "stream",
     "text": [
      "Answer = -2.0\n",
      "-10 is a multiple of 5.\n"
     ]
    }
   ],
   "source": [
    "#Type your code here\n",
    "user_num3 = int(input('Enter any number = '))\n",
    "if user_num3 % 5 == 0:\n",
    "    print(f'Answer = {user_num3/5}')\n",
    "    print(f'{user_num3} is a multiple of 5.')\n",
    "else:\n",
    "    print(f'{user_num3} is not multiple of 5.')"
   ]
  },
  {
   "cell_type": "markdown",
   "metadata": {},
   "source": [
    "7) Write a program to display the last digit of a number.\n"
   ]
  },
  {
   "cell_type": "code",
   "execution_count": 41,
   "metadata": {},
   "outputs": [
    {
     "name": "stdout",
     "output_type": "stream",
     "text": [
      "Last Digit of 12 is 2.\n"
     ]
    }
   ],
   "source": [
    "#Type your code here\n",
    "any_num = input('Enter any number = ')\n",
    "print(f'Last Digit of {any_num} is {any_num[-1]}.')"
   ]
  },
  {
   "cell_type": "markdown",
   "metadata": {},
   "source": [
    "9) Take values of length and breadth of a rectangle from user and print if it is square or rectangle."
   ]
  },
  {
   "cell_type": "code",
   "execution_count": 43,
   "metadata": {},
   "outputs": [
    {
     "name": "stdout",
     "output_type": "stream",
     "text": [
      "Length = 50 \n",
      "Breadth = 50\n",
      "Given parameters are equal, hence the shape is Square.\n"
     ]
    }
   ],
   "source": [
    "#Type your code here\n",
    "length = int(input('Enter Length = '))\n",
    "breadth = int(input('Enter Breadth = '))\n",
    "if length == breadth:\n",
    "    print(f'Length = {length} \\nBreadth = {breadth}')\n",
    "    print('Given parameters are equal, hence the shape is Square.')\n",
    "else:\n",
    "    print(f'Length = {length} \\nBreadth = {breadth}')\n",
    "    print('Given parameters are not equal, hence the shape is Rectangle.')"
   ]
  },
  {
   "cell_type": "markdown",
   "metadata": {},
   "source": [
    "10) Take two int values from user and print greatest among them."
   ]
  },
  {
   "cell_type": "code",
   "execution_count": 45,
   "metadata": {},
   "outputs": [
    {
     "name": "stdout",
     "output_type": "stream",
     "text": [
      "Num1 = 44 \n",
      "Num2 = 12\n",
      "44 is greater than 12\n"
     ]
    }
   ],
   "source": [
    "# Type your code here\n",
    "num1 = int(input('Enter Any Number = '))\n",
    "num2 = int(input('Enter any Number = '))\n",
    "print(f'Num1 = {num1} \\nNum2 = {num2}')\n",
    "if num1 > num2:\n",
    "    print(f'{num1} is greater than {num2}')\n",
    "elif num1 == num2:\n",
    "    print(f'{num1} and {num2} are equal.')\n",
    "else:\n",
    "    print(f'{num1} is Less than {num2}')\n",
    "    "
   ]
  },
  {
   "cell_type": "markdown",
   "metadata": {},
   "source": [
    "11) A shop will give discount of 10% if the cost of purchased quantity is more than 1000.\n",
    "Ask user for quantity\n",
    "Suppose, one unit will cost 100.\n",
    "Judge and print total cost for user."
   ]
  },
  {
   "cell_type": "code",
   "execution_count": 15,
   "metadata": {},
   "outputs": [
    {
     "name": "stdout",
     "output_type": "stream",
     "text": [
      "Quantity => 50\n",
      "Your actual purchasing cost was 5000/-Rs. and after discount you need to pay 4500.0/-Rs. Thanks for visiting us.\n"
     ]
    }
   ],
   "source": [
    "#Type your code here\n",
    "qty = int(input('Enter Quantity you purchased = '))  # Quantity\n",
    "print('Quantity =>',  qty)\n",
    "cost = qty*100\n",
    "if cost > 1000:\n",
    "    discount_cost = cost*0.1\n",
    "    new_price = cost - discount_cost\n",
    "    print(f'Your actual purchasing cost was {cost}/-Rs. and after discount you need to pay {new_price}/-Rs. Thanks for visiting us.')\n",
    "else:\n",
    "    print(f'Your bill is {cost}/-Rs..')"
   ]
  },
  {
   "cell_type": "markdown",
   "metadata": {},
   "source": [
    "12) A school has following rules for grading system:\n",
    "\n",
    "a. Below 25 - F\n",
    "\n",
    "b. 25 to 45 - E\n",
    "\n",
    "c. 45 to 50 - D\n",
    "\n",
    "d. 50 to 60 - C\n",
    "\n",
    "e. 60 to 80 - B\n",
    "\n",
    "f. Above 80 - A\n",
    "\n",
    "Ask user to enter marks and print the corresponding grade."
   ]
  },
  {
   "cell_type": "code",
   "execution_count": 28,
   "metadata": {},
   "outputs": [
    {
     "name": "stdout",
     "output_type": "stream",
     "text": [
      "Grade F\n"
     ]
    }
   ],
   "source": [
    "#Type your code here\n",
    "marks = int(input('Enter Your Marks = '))\n",
    "if marks >= 80 and marks < 100:\n",
    "    print('Grade A')\n",
    "elif marks < 80 and marks >= 60:\n",
    "    print('Grade B')\n",
    "elif marks < 60 and marks >=50:\n",
    "    print('Grade C')\n",
    "elif marks < 50 and marks >= 45:\n",
    "    print('Grade D')\n",
    "elif marks < 45 and marks >= 25:\n",
    "    print('Grade E')\n",
    "elif marks < 25:\n",
    "    print('Grade F')\n",
    "else:\n",
    "    print('Enter appropriate marks..')"
   ]
  },
  {
   "cell_type": "markdown",
   "metadata": {},
   "source": [
    "14)A student will not be allowed to sit in exam if his/her attendence is less than 75%.\n",
    "\n",
    "Take following input from user\n",
    "\n",
    "- Number of classes held\n",
    "\n",
    "- Number of classes attended.\n",
    "\n",
    "And print\n",
    "\n",
    "- percentage of class attended\n",
    "\n",
    "- Is student is allowed to sit in exam or not.\n"
   ]
  },
  {
   "cell_type": "code",
   "execution_count": 35,
   "metadata": {},
   "outputs": [
    {
     "name": "stdout",
     "output_type": "stream",
     "text": [
      "Attendance = 94%\n",
      "You are eligible for the Exams.\n"
     ]
    }
   ],
   "source": [
    "#Type your code here\n",
    "import math\n",
    "classes = int(input('Enter Total Classes in This Session = '))\n",
    "attend_classes = int(input('Enter Total Attended Classes = '))\n",
    "attendance = math.floor((attend_classes/classes)*100)\n",
    "\n",
    "if attendance < 75:\n",
    "    print(f'Attendance = {attendance}%')\n",
    "    print(f'Since your attendance is less than 75%, therefore you are not allow to sit in Exams.')\n",
    "else:\n",
    "    print(f'Attendance = {attendance}%')\n",
    "    print('You are eligible for the Exams.')"
   ]
  },
  {
   "cell_type": "markdown",
   "metadata": {},
   "source": [
    "15) Modify the above question to allow student to sit if he/she has medical cause. Ask user if he/she has medical cause or not ( 'Y' or 'N' ) and print accordingly."
   ]
  },
  {
   "cell_type": "code",
   "execution_count": 41,
   "metadata": {},
   "outputs": [
    {
     "name": "stdout",
     "output_type": "stream",
     "text": [
      "no\n",
      "Attendance = 61%\n",
      "Since your attendance is less than 75%, therefore you are not allow to sit in Exams.\n"
     ]
    }
   ],
   "source": [
    "#Type your code here\n",
    "import math\n",
    "classes = int(input('Enter Total Classes in This Session = '))\n",
    "attend_classes = int(input('Enter Total Attended Classes = '))\n",
    "medical = input('Any medical Issue (Yes/No) = ').lower()\n",
    "#print(medical)\n",
    "attendance = math.floor((attend_classes/classes)*100)\n",
    "\n",
    "if attendance < 75 and medical == 'no':\n",
    "    print(f'Attendance = {attendance}%')\n",
    "    print(f'Since your attendance is less than 75%, therefore you are not allow to sit in Exams.')\n",
    "elif attendance < 75 and medical == 'yes':\n",
    "    print(f'Attendance = {attendance}%')\n",
    "    print(f'Your Attendance is less than 75, but due to Medical Issues management allow you to sit for the exams')\n",
    "else:\n",
    "    print(f'Attendance = {attendance}%')\n",
    "    print('You are eligible for the Exams.')"
   ]
  },
  {
   "cell_type": "markdown",
   "metadata": {},
   "source": [
    "16) Write a program to check if a year is leap year or not.\n",
    "\n",
    "If a year is divisible by 4 then it is leap year but if the year is century year like 2000, 1900, 2100 then it must be divisible by 400."
   ]
  },
  {
   "cell_type": "code",
   "execution_count": 3,
   "metadata": {},
   "outputs": [
    {
     "name": "stdout",
     "output_type": "stream",
     "text": [
      "Year =>  1900\n",
      "1900 is not a leap year.\n"
     ]
    }
   ],
   "source": [
    "#Type your code here\n",
    "year = int(input(\"Enter a year: \"))\n",
    "print('Year => ', year)\n",
    "\n",
    "if year % 4 == 0:\n",
    "    if year % 100 == 0:\n",
    "        if year % 400 == 0:\n",
    "            print(f\"{year} is a leap year.\")\n",
    "        else:\n",
    "            print(f\"{year} is not a leap year.\")\n",
    "    else:\n",
    "        print(f\"{year} is a leap year.\")\n",
    "else:\n",
    "    print(f\"{year} is not a leap year.\")"
   ]
  },
  {
   "cell_type": "markdown",
   "metadata": {},
   "source": [
    "17) Ask user to enter age, gender ( M or F ), marital status ( Y or N ) and then using following rules print their place of service.\n",
    "\n",
    "if employee is female, then she will work only in urban areas.\n",
    "\n",
    "if employee is a male and age is in between 20 to 40 then he may work in anywhere\n",
    "\n",
    "if employee is male and age is in between 40 t0 60 then he will work in urban areas only.\n",
    "\n",
    "And any other input of age should print \"ERROR\""
   ]
  },
  {
   "cell_type": "code",
   "execution_count": 7,
   "metadata": {},
   "outputs": [
    {
     "name": "stdout",
     "output_type": "stream",
     "text": [
      "Gender = female \n",
      "Age = 33 \n",
      "Marital Status = yes\n",
      "You need to work only in Urban Areas..\n"
     ]
    }
   ],
   "source": [
    "#Type your code here\n",
    "gender = input('Enter Gender.. = ').lower()\n",
    "age_1 = int(input('Enter Age = '))\n",
    "marital_status = input('Enter Marital Status (Y/N) = ')\n",
    "print(f'Gender = {gender} \\nAge = {age_1} \\nMarital Status = {marital_status}')\n",
    "if gender == 'female':\n",
    "    print('You need to work only in Urban Areas..')\n",
    "elif gender == 'male' and 20 <= age_1 <= 40:\n",
    "    print('You can work anywhere..')\n",
    "elif gender == 'male' and 40 <= age_1 <= 60:\n",
    "    print('You will only work in urban areas.')\n",
    "else:\n",
    "    print('Wrong Input!!')\n"
   ]
  },
  {
   "cell_type": "markdown",
   "metadata": {},
   "source": [
    "6) Write a program to calculate the electricity bill (accept number of unit from user) according to the following criteria :\n",
    "     Unit                                                     Price  \n",
    "uptp 100 units                                             no charge\n",
    "Next 200 units                                              Rs 5 per unit\n",
    "After 200 units                                             Rs 10 per unit\n",
    "(For example if input unit is 350 than total bill amount is Rs.3500\n",
    "(For example if input unit is 97 than total bill amount is Rs.0\n",
    "(For example if input unit is 150 than total bill amount is Rs.750"
   ]
  },
  {
   "cell_type": "code",
   "execution_count": 13,
   "metadata": {},
   "outputs": [
    {
     "name": "stdout",
     "output_type": "stream",
     "text": [
      "Units Consumed =  190\n",
      "Your Total Bill is 950/-.\n"
     ]
    }
   ],
   "source": [
    "#Type your code here\n",
    "elec_units = int(input('Enter Units Consumed.. = '))\n",
    "print('Units Consumed = ', elec_units)\n",
    "if elec_units <= 100:\n",
    "    payable_amount = 0\n",
    "    print(f'Your Total Bill is {payable_amount}/-.')\n",
    "elif 100 <= elec_units <= 200:\n",
    "    payable_amount = elec_units*5\n",
    "    print(f'Your Total Bill is {payable_amount}/-.')\n",
    "elif elec_units > 200:\n",
    "    payable_amount = elec_units*10\n",
    "    print(f'Your Total Bill is {payable_amount}/-.')\n",
    "else:\n",
    "    print('Contact Supplier..')"
   ]
  },
  {
   "cell_type": "markdown",
   "metadata": {},
   "source": [
    "13) Take input of age of 3 people by user and determine oldest and youngest among them."
   ]
  },
  {
   "cell_type": "code",
   "execution_count": 15,
   "metadata": {},
   "outputs": [
    {
     "name": "stdout",
     "output_type": "stream",
     "text": [
      "Age-1 = 90 \n",
      "Age-2 = 40, \n",
      "Age-3 = 10\n",
      "Oldest Person Age is 90 \n",
      "Youngest Person Age is 10\n"
     ]
    }
   ],
   "source": [
    "user_age1 = int(input('Enter Age = '))\n",
    "user_age2 = int(input('Enter Age = '))\n",
    "user_age3 = int(input('Enter Age = '))\n",
    "print(f'Age-1 = {user_age1} \\nAge-2 = {user_age2}, \\nAge-3 = {user_age3}')\n",
    "ages = [user_age1, user_age2, user_age3]\n",
    "max_age = max(ages) # Maximum Age\n",
    "min_age = min(ages) # Minimum Age\n",
    "\n",
    "print(f'Oldest Person Age is {max_age} \\nYoungest Person Age is {min_age}')"
   ]
  }
 ],
 "metadata": {
  "kernelspec": {
   "display_name": "Python 3 (ipykernel)",
   "language": "python",
   "name": "python3"
  },
  "language_info": {
   "codemirror_mode": {
    "name": "ipython",
    "version": 3
   },
   "file_extension": ".py",
   "mimetype": "text/x-python",
   "name": "python",
   "nbconvert_exporter": "python",
   "pygments_lexer": "ipython3",
   "version": "3.12.3"
  }
 },
 "nbformat": 4,
 "nbformat_minor": 2
}
