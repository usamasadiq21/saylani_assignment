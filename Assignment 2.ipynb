{
 "cells": [
  {
   "cell_type": "markdown",
   "metadata": {},
   "source": [
    "##### Scenario 1: Grocery Shopping List \n",
    " - You are creating a program to manage a grocery shopping list. Users should be able to add items, \n",
    "remove items, and display the current list. "
   ]
  },
  {
   "cell_type": "code",
   "execution_count": 33,
   "metadata": {},
   "outputs": [],
   "source": [
    "shop_items = []"
   ]
  },
  {
   "cell_type": "code",
   "execution_count": 34,
   "metadata": {},
   "outputs": [
    {
     "name": "stdout",
     "output_type": "stream",
     "text": [
      "Old List => ['apple']\n",
      "Updated List =>  []\n"
     ]
    }
   ],
   "source": [
    "# User entering number of items for shopping\n",
    "num_of_items = int(input('Enter Number of Items ??'))\n",
    "# Below loop will run a/c to number of items entered by user..\n",
    "for item in range(num_of_items):\n",
    "    item_names = input(\"Enter Name of Items you will Buy..\")\n",
    "    shop_items.append(item_names)\n",
    "\n",
    "print(\"Old List =>\", shop_items)\n",
    "\n",
    "# When user enters all the items then, move to next line, in which user will asked that if he/she want to remove any item from the list or not.\n",
    "user_response = input(\"Want to Remove any item ? (YES/NO) \").lower()\n",
    "if (user_response == \"yes\" or user_response == \"y\"):\n",
    "    del_num_of_items = int(input('Enter Number of Items you want to Remove.. ??'))\n",
    "    for new_item in range(del_num_of_items):\n",
    "        # name of items to be removed\n",
    "        del_item_name = input(\"Enter item name you want to delete..\")\n",
    "        shop_items.remove(del_item_name)\n",
    "    print(\"Updated List => \", shop_items)\n",
    "\n",
    "else:\n",
    "    print(shop_items)"
   ]
  },
  {
   "cell_type": "markdown",
   "metadata": {},
   "source": [
    "---"
   ]
  },
  {
   "cell_type": "markdown",
   "metadata": {},
   "source": [
    "#### Scenario 2: Student Grades  \n",
    "- You are managing student grades using a dictionary. You need to calculate the average grade.take \n",
    "atleast 5 Students grades & then calculate the average. "
   ]
  },
  {
   "cell_type": "code",
   "execution_count": 6,
   "metadata": {},
   "outputs": [],
   "source": [
    "grade_list = []"
   ]
  },
  {
   "cell_type": "code",
   "execution_count": 7,
   "metadata": {},
   "outputs": [
    {
     "name": "stdout",
     "output_type": "stream",
     "text": [
      "Sum of All Grades = 427\n",
      "Total Value = 5\n",
      "Average = 85.4\n"
     ]
    }
   ],
   "source": [
    "student_grades = {\n",
    "    \"John\": 85,\n",
    "    \"Jane\": 92, \n",
    "    \"Bob\": 78,\n",
    "    \"Alice\": 90,\n",
    "    \"Tom\": 82\n",
    "}\n",
    "\n",
    "for grade in student_grades.values():\n",
    "    grade_list.append(grade)\n",
    "\n",
    "grades_sum = sum(grade_list)\n",
    "total_values = len(grade_list)\n",
    "\n",
    "# Calculating Average\n",
    "avg_grade = grades_sum/total_values\n",
    "print(f\"Sum of All Grades = {grades_sum}\")\n",
    "print(f\"Total Value = {total_values}\")\n",
    "print(f\"Average = {avg_grade}\")\n",
    "\n"
   ]
  },
  {
   "cell_type": "markdown",
   "metadata": {},
   "source": [
    "---"
   ]
  },
  {
   "cell_type": "markdown",
   "metadata": {},
   "source": [
    "#### Scenario 3: Word Frequency Counter \n",
    "- You are given a list of words, and you need to count the frequency of each word. <br/>\n",
    "word_list = [\"apple\", \"banana\", \"apple\", \"orange\", \"banana\", \"grape\", \"apple\"] "
   ]
  },
  {
   "cell_type": "code",
   "execution_count": 1,
   "metadata": {},
   "outputs": [],
   "source": [
    "word_list = [\"apple\", \"banana\", \"apple\", \"orange\", \"banana\", \"grape\", \"apple\"]"
   ]
  },
  {
   "cell_type": "code",
   "execution_count": 9,
   "metadata": {},
   "outputs": [
    {
     "name": "stdout",
     "output_type": "stream",
     "text": [
      "apple: 3\n",
      "banana: 2\n",
      "orange: 1\n",
      "grape: 1\n"
     ]
    }
   ],
   "source": [
    "word_frequency = {}\n",
    "\n",
    "# Iterate through the list and count the frequency of each word\n",
    "for word in word_list:\n",
    "    if word in word_frequency:\n",
    "        word_frequency[word] += 1\n",
    "    else:\n",
    "        word_frequency[word] = 1\n",
    "\n",
    "# Print the frequency of each word\n",
    "for word, frequency in word_frequency.items():\n",
    "    print(f\"{word}: {frequency}\")"
   ]
  },
  {
   "cell_type": "markdown",
   "metadata": {},
   "source": [
    "---"
   ]
  },
  {
   "cell_type": "markdown",
   "metadata": {},
   "source": [
    "#### Scenario 3: Password Strength Checker \n",
    "- You are creating a program to check the strength of passwords based on certain criteria.\n",
    "  - Password should be at least 8 characters long.\n",
    "  - Password should contain at least one digit. \n",
    "  - Password should contain at least one letter. "
   ]
  },
  {
   "cell_type": "code",
   "execution_count": 33,
   "metadata": {},
   "outputs": [
    {
     "name": "stdout",
     "output_type": "stream",
     "text": [
      "Password Length should greater than 8 characters.\n",
      "Password should contain atleast one-digit..\n"
     ]
    }
   ],
   "source": [
    "password = input('Enter Password!!!')\n",
    "if len(password) <= 8:\n",
    "    print(\"Password Length should greater than 8 characters.\")\n",
    "\n",
    "has_num = False\n",
    "for num in password:\n",
    "    if num.isdigit():\n",
    "        has_num = True\n",
    "        break\n",
    "    \n",
    "if not has_num:\n",
    "    print(\"Password should contain atleast one digit..\")\n",
    "\n",
    "has_alpha = False\n",
    "for alpha in password:\n",
    "        if alpha.isalpha():\n",
    "            has_alpha = True\n",
    "            break\n",
    "if not has_alpha:\n",
    "    print(\"Password should contain atleast one-digit..\")\n"
   ]
  },
  {
   "cell_type": "markdown",
   "metadata": {},
   "source": [
    "--- "
   ]
  },
  {
   "cell_type": "markdown",
   "metadata": {},
   "source": [
    "#### Scenario 04: Voting System (Annual Employee Recognition Awards) \n",
    "- You are developing a simple voting system for a contest. Users can vote for their Favorite option, and \n",
    "you need to count the votes. \n",
    "- In a corporate setting, the HR department is organizing the Annual Employee Recognition Awards, \n",
    "where employees get the opportunity to vote for their colleagues nominated in different categories. \n",
    "The HR team has decided to use a simple voting system to collect and tally votes for the nominees in \n",
    "various award categories. The script provided will be utilized for this purpose. \n",
    "- Candidates: The nominees for different award categories, such as \"Employee of the Year,\" \"Team \n",
    "Player of the Year,\" and \"Innovation Award,\" are represented by the list of candidates: 'Candidate A,' \n",
    "'Candidate B,' and 'Candidate C.' \n",
    "Voting Process: Employees are requested to input the number of voters participating in the awards. \n",
    "- Each voter is presented with a list of nominees, and they can vote for their preferred candidate by \n",
    "entering the corresponding number. \n",
    "Validation: The script ensures that the entered vote is within the valid range of candidates. If an \n",
    "employee enters an invalid vote, the system prompts them to choose a valid candidate. \n",
    "Recording Votes: The script records each vote for the selected candidate and prints a confirmation \n",
    "message indicating that the vote has been recorded. \n",
    "- Results Display: Once all votes are collected, the system displays the voting results, showing the \n",
    "number of votes each candidate received in each category. \n",
    "Award Winners: Based on the voting results, the HR department can identify the winners for each \n",
    "award category and proceed with recognizing and rewarding the selected employees during the \n",
    "- Annual Employee Recognition Ceremony. \n",
    "- This script provides a straightforward and transparent way for employees to participate in the \n",
    "recognition process, fostering a sense of engagement and community within the organization. The \n",
    "HR team can use the collected votes to acknowledge and appreciate the efforts of outstanding \n",
    "employees in various aspects of their work."
   ]
  },
  {
   "cell_type": "code",
   "execution_count": 1,
   "metadata": {},
   "outputs": [
    {
     "name": "stdout",
     "output_type": "stream",
     "text": [
      "Nominees for different award categories:\n",
      "1. Candidate A\n",
      "2. Candidate B\n",
      "3. Candidate C\n",
      "Invalid input. Please enter a valid number.\n",
      "Invalid input. Please enter a valid number.\n",
      "Invalid input. Please enter a valid number.\n",
      "Invalid input. Please enter a valid number.\n",
      "Invalid input. Please enter a valid number.\n",
      "Invalid input. Please enter a valid number.\n",
      "Invalid input. Please enter a valid number.\n",
      "Invalid input. Please enter a valid number.\n",
      "Invalid input. Please enter a valid number.\n",
      "Invalid input. Please enter a valid number.\n",
      "Invalid input. Please enter a valid number.\n",
      "Invalid input. Please enter a valid number.\n",
      "Invalid input. Please enter a valid number.\n",
      "Invalid input. Please enter a valid number.\n",
      "Invalid input. Please enter a valid number.\n",
      "Invalid input. Please enter a valid number.\n",
      "Invalid input. Please enter a valid number.\n",
      "Invalid input. Please enter a valid number.\n",
      "Invalid input. Please enter a valid number.\n",
      "Invalid input. Please enter a valid number.\n",
      "Invalid input. Please enter a valid number.\n",
      "Invalid input. Please enter a valid number.\n",
      "Invalid input. Please enter a valid number.\n",
      "Invalid input. Please enter a valid number.\n",
      "Invalid input. Please enter a valid number.\n",
      "Invalid input. Please enter a valid number.\n",
      "Invalid input. Please enter a valid number.\n",
      "Invalid input. Please enter a valid number.\n",
      "Invalid input. Please enter a valid number.\n",
      "Invalid input. Please enter a valid number.\n",
      "Invalid input. Please enter a valid number.\n",
      "Invalid input. Please enter a valid number.\n",
      "Invalid input. Please enter a valid number.\n",
      "Invalid input. Please enter a valid number.\n",
      "Invalid input. Please enter a valid number.\n",
      "Invalid input. Please enter a valid number.\n",
      "Invalid input. Please enter a valid number.\n",
      "Invalid input. Please enter a valid number.\n",
      "Invalid input. Please enter a valid number.\n",
      "Invalid input. Please enter a valid number.\n",
      "Invalid input. Please enter a valid number.\n",
      "Invalid input. Please enter a valid number.\n",
      "Invalid input. Please enter a valid number.\n",
      "Invalid input. Please enter a valid number.\n",
      "Invalid input. Please enter a valid number.\n",
      "Invalid input. Please enter a valid number.\n",
      "Invalid input. Please enter a valid number.\n",
      "Invalid input. Please enter a valid number.\n",
      "Invalid input. Please enter a valid number.\n",
      "Invalid input. Please enter a valid number.\n",
      "Invalid input. Please enter a valid number.\n",
      "Invalid input. Please enter a valid number.\n",
      "Invalid input. Please enter a valid number.\n",
      "Invalid input. Please enter a valid number.\n",
      "Invalid input. Please enter a valid number.\n",
      "Invalid input. Please enter a valid number.\n",
      "Invalid input. Please enter a valid number.\n",
      "Invalid input. Please enter a valid number.\n",
      "Invalid input. Please enter a valid number.\n",
      "Invalid input. Please enter a valid number.\n",
      "Invalid input. Please enter a valid number.\n",
      "Invalid input. Please enter a valid number.\n",
      "Invalid input. Please enter a valid number.\n",
      "Invalid input. Please enter a valid number.\n",
      "Invalid input. Please enter a valid number.\n",
      "Invalid input. Please enter a valid number.\n",
      "Invalid input. Please enter a valid number.\n",
      "Invalid input. Please enter a valid number.\n",
      "Invalid input. Please enter a valid number.\n",
      "Invalid input. Please enter a valid number.\n",
      "Invalid input. Please enter a valid number.\n",
      "Invalid input. Please enter a valid number.\n",
      "Invalid input. Please enter a valid number.\n",
      "Invalid input. Please enter a valid number.\n",
      "Invalid input. Please enter a valid number.\n",
      "Invalid input. Please enter a valid number.\n",
      "Invalid input. Please enter a valid number.\n",
      "Invalid input. Please enter a valid number.\n",
      "Invalid input. Please enter a valid number.\n",
      "Invalid input. Please enter a valid number.\n",
      "Invalid input. Please enter a valid number.\n",
      "Invalid input. Please enter a valid number.\n",
      "Invalid input. Please enter a valid number.\n",
      "Invalid input. Please enter a valid number.\n",
      "Invalid input. Please enter a valid number.\n",
      "Invalid input. Please enter a valid number.\n",
      "Invalid input. Please enter a valid number.\n",
      "Invalid input. Please enter a valid number.\n",
      "Invalid input. Please enter a valid number.\n",
      "Invalid input. Please enter a valid number.\n",
      "Invalid input. Please enter a valid number.\n",
      "Invalid input. Please enter a valid number.\n",
      "Invalid input. Please enter a valid number.\n",
      "Invalid input. Please enter a valid number.\n",
      "Invalid input. Please enter a valid number.\n",
      "Invalid input. Please enter a valid number.\n",
      "Invalid input. Please enter a valid number.\n",
      "Invalid input. Please enter a valid number.\n",
      "Invalid input. Please enter a valid number.\n",
      "Invalid input. Please enter a valid number.\n",
      "Invalid input. Please enter a valid number.\n",
      "Invalid input. Please enter a valid number.\n",
      "Invalid input. Please enter a valid number.\n",
      "Invalid input. Please enter a valid number.\n",
      "Invalid input. Please enter a valid number.\n",
      "Invalid input. Please enter a valid number.\n",
      "Invalid input. Please enter a valid number.\n",
      "Invalid input. Please enter a valid number.\n",
      "Invalid input. Please enter a valid number.\n",
      "Invalid input. Please enter a valid number.\n",
      "Invalid input. Please enter a valid number.\n",
      "Invalid input. Please enter a valid number.\n",
      "Invalid input. Please enter a valid number.\n",
      "Invalid input. Please enter a valid number.\n",
      "Invalid input. Please enter a valid number.\n",
      "Invalid input. Please enter a valid number.\n",
      "Invalid input. Please enter a valid number.\n",
      "Invalid input. Please enter a valid number.\n",
      "Invalid input. Please enter a valid number.\n",
      "Invalid input. Please enter a valid number.\n",
      "Invalid input. Please enter a valid number.\n",
      "Invalid input. Please enter a valid number.\n",
      "Invalid input. Please enter a valid number.\n",
      "Invalid input. Please enter a valid number.\n",
      "Invalid input. Please enter a valid number.\n",
      "Invalid input. Please enter a valid number.\n",
      "Invalid input. Please enter a valid number.\n"
     ]
    }
   ],
   "source": [
    "# List of candidates\n",
    "candidates = [\"Candidate A\", \"Candidate B\", \"Candidate C\"]\n",
    "\n",
    "# Initialize vote counts for each candidate\n",
    "votes = [0, 0, 0]\n",
    "\n",
    "# Get the number of voters\n",
    "num_voters = int(input(\"Enter the number of voters participating in the awards: \"))\n",
    "\n",
    "# Function to display candidates\n",
    "def display_candidates():\n",
    "    print(\"Nominees for different award categories:\")\n",
    "    for i, candidate in enumerate(candidates):\n",
    "        print(f\"{i + 1}. {candidate}\")\n",
    "\n",
    "# Voting process\n",
    "for voter in range(num_voters):\n",
    "    display_candidates()\n",
    "    while True:\n",
    "        try:\n",
    "            vote = int(input(f\"Voter {voter + 1}, enter the number corresponding to your preferred candidate: \"))\n",
    "            if 1 <= vote <= len(candidates):\n",
    "                votes[vote - 1] += 1\n",
    "                print(f\"Vote recorded for {candidates[vote - 1]}.\")\n",
    "                break\n",
    "            else:\n",
    "                print(\"Invalid input. Please enter a number within the range of candidates.\")\n",
    "        except ValueError:\n",
    "            print(\"Invalid input. Please enter a valid number.\")\n",
    "\n",
    "# Display results\n",
    "print(\"\\nVoting Results:\")\n",
    "for i, candidate in enumerate(candidates):\n",
    "    print(f\"{candidate}: {votes[i]} votes\")\n",
    "\n",
    "# Determine the winner\n",
    "max_votes = max(votes)\n",
    "winners = [candidates[i] for i, v in enumerate(votes) if v == max_votes]\n",
    "\n",
    "print(\"\\nAward Winners:\")\n",
    "for winner in winners:\n",
    "    print(f\"Congratulations to {winner}!\")\n",
    "\n",
    "print(\"\\nThank you all for participating in the Annual Employee Recognition Awards!\")"
   ]
  },
  {
   "cell_type": "code",
   "execution_count": null,
   "metadata": {},
   "outputs": [],
   "source": []
  },
  {
   "cell_type": "code",
   "execution_count": null,
   "metadata": {},
   "outputs": [],
   "source": []
  },
  {
   "cell_type": "code",
   "execution_count": null,
   "metadata": {},
   "outputs": [],
   "source": []
  },
  {
   "cell_type": "code",
   "execution_count": null,
   "metadata": {},
   "outputs": [],
   "source": []
  },
  {
   "cell_type": "code",
   "execution_count": null,
   "metadata": {},
   "outputs": [],
   "source": []
  },
  {
   "cell_type": "code",
   "execution_count": null,
   "metadata": {},
   "outputs": [],
   "source": []
  },
  {
   "cell_type": "code",
   "execution_count": null,
   "metadata": {},
   "outputs": [],
   "source": []
  }
 ],
 "metadata": {
  "kernelspec": {
   "display_name": "Python 3",
   "language": "python",
   "name": "python3"
  },
  "language_info": {
   "codemirror_mode": {
    "name": "ipython",
    "version": 3
   },
   "file_extension": ".py",
   "mimetype": "text/x-python",
   "name": "python",
   "nbconvert_exporter": "python",
   "pygments_lexer": "ipython3",
   "version": "3.12.3"
  }
 },
 "nbformat": 4,
 "nbformat_minor": 2
}
