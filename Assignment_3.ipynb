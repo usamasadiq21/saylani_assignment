{
 "cells": [
  {
   "cell_type": "markdown",
   "metadata": {},
   "source": [
    "### ASSIGNMENT 3"
   ]
  },
  {
   "cell_type": "markdown",
   "metadata": {},
   "source": [
    "1. Write a program that accepts a string from user. Your program should count and display number of vowels in that string. "
   ]
  },
  {
   "cell_type": "code",
   "execution_count": 9,
   "metadata": {},
   "outputs": [
    {
     "name": "stdout",
     "output_type": "stream",
     "text": [
      "User Input => usama is a good boy\n",
      "Vowel Count => 8\n",
      "All Vowels => ['u', 'a', 'a', 'i', 'a', 'o', 'o', 'o']\n"
     ]
    }
   ],
   "source": [
    "userInput = input('Enter Strings => ').lower()\n",
    "vowels = ['a','e','i','o','u']\n",
    "vowels_count = 0\n",
    "all_vowels = []\n",
    "for letter in userInput:\n",
    "    if letter in vowels:\n",
    "        vowels_count += 1\n",
    "        all_vowels.append(letter)\n",
    "\n",
    "print('User Input =>', userInput)\n",
    "print('Vowel Count =>', vowels_count)\n",
    "print('All Vowels =>', all_vowels)"
   ]
  },
  {
   "cell_type": "markdown",
   "metadata": {},
   "source": [
    "---"
   ]
  },
  {
   "cell_type": "markdown",
   "metadata": {},
   "source": [
    "2. Write a program that reads a string from keyboard and display:\n",
    "* The number of uppercase letters in the string\n",
    "* The number of lowercase letters in the string\n",
    "* The number of digits in the string\n",
    "* The number of whitespace characters in the string"
   ]
  },
  {
   "cell_type": "code",
   "execution_count": 16,
   "metadata": {},
   "outputs": [
    {
     "name": "stdout",
     "output_type": "stream",
     "text": [
      "User Input = sadfv1234\n",
      "Upper = 0\n",
      "Lower = 5\n",
      "Number = 4\n",
      "Spaces = 0\n"
     ]
    }
   ],
   "source": [
    "string_from_user =  input('Enter Anything.. =>')\n",
    "upper = 0\n",
    "lowercase = 0\n",
    "number = 0\n",
    "spaces = 0\n",
    "for str in string_from_user:\n",
    "    if str.isupper():\n",
    "        upper += 1\n",
    "    elif str.islower():\n",
    "        lowercase += 1\n",
    "    elif str.isdigit():\n",
    "        number += 1\n",
    "    elif str.isspace():\n",
    "        spaces += 1\n",
    "    else:\n",
    "        print('Error')\n",
    "    \n",
    "print(f'User Input = {string_from_user}\\nUpper = {upper}\\nLower = {lowercase}\\nNumber = {number}\\nSpaces = {spaces}')\n"
   ]
  },
  {
   "cell_type": "markdown",
   "metadata": {},
   "source": [
    "---"
   ]
  },
  {
   "cell_type": "markdown",
   "metadata": {},
   "source": [
    "3. Write a Python program that accepts a string from user. Your program should create and display a new string where the first and last characters have been exchange."
   ]
  },
  {
   "cell_type": "code",
   "execution_count": 28,
   "metadata": {},
   "outputs": [
    {
     "name": "stdout",
     "output_type": "stream",
     "text": [
      "asamU\n"
     ]
    }
   ],
   "source": [
    "user_data = input('Enter Anything => ')\n",
    "first_char = user_data[0]\n",
    "last_char = user_data[-1]\n",
    "remaining_str = user_data[1:len(user_data)-1]\n",
    "print(last_char + remaining_str + first_char)"
   ]
  },
  {
   "cell_type": "markdown",
   "metadata": {},
   "source": [
    "---"
   ]
  },
  {
   "cell_type": "markdown",
   "metadata": {},
   "source": [
    "4. Write a Python program that accepts a string from user. Your program should create a new string in reverse of first string and display it.\n",
    " - For example if the user enters the string 'EXAM' then new string would be 'MAXE' \n"
   ]
  },
  {
   "cell_type": "code",
   "execution_count": 61,
   "metadata": {},
   "outputs": [
    {
     "name": "stdout",
     "output_type": "stream",
     "text": [
      "saad\n"
     ]
    }
   ],
   "source": [
    "new_str = 'daas'\n",
    "print(new_str[::-1])"
   ]
  },
  {
   "cell_type": "markdown",
   "metadata": {},
   "source": [
    "---"
   ]
  },
  {
   "cell_type": "markdown",
   "metadata": {},
   "source": [
    " 5. Write a Python program that accepts a string from user. Your program should create a new string by shifting one position to left.\n",
    " - For example if the user enters the string 'examination 2021' then new string would be 'xamination2021e' "
   ]
  },
  {
   "cell_type": "code",
   "execution_count": 62,
   "metadata": {},
   "outputs": [
    {
     "name": "stdout",
     "output_type": "stream",
     "text": [
      "Shifted string: igo is dream car\\v\n"
     ]
    }
   ],
   "source": [
    "user_string = input(\"Enter a string: \")\n",
    "\n",
    "# Check if the string is not empty\n",
    "if len(user_string) > 0:\n",
    "    # Create a new string by shifting one position to the left\n",
    "    shifted_string = user_string[1:] + user_string[0]\n",
    "    \n",
    "    # Display the new shifted string\n",
    "    print(f\"Shifted string: {shifted_string}\")\n",
    "else:\n",
    "    print(\"The string is empty, nothing to shift.\")"
   ]
  },
  {
   "cell_type": "markdown",
   "metadata": {},
   "source": [
    "---"
   ]
  },
  {
   "cell_type": "markdown",
   "metadata": {},
   "source": [
    "6. Write a program that asks the user to input his name and print its initials. Assuming that the user always types first name, middle name and last name and does not include any unnecessary spaces.\n",
    " - For example, if the user enters Ajay Kumar Garg the program should display A. K. G. Note:Don't use split() method "
   ]
  },
  {
   "cell_type": "code",
   "execution_count": 77,
   "metadata": {},
   "outputs": [
    {
     "name": "stdout",
     "output_type": "stream",
     "text": [
      "S. B. S. \n"
     ]
    }
   ],
   "source": [
    "name = input(\"Enter your full name: \")\n",
    "\n",
    "# Initialize an empty string for initials\n",
    "initials = \"\"\n",
    "\n",
    "# Loop through each character in the name\n",
    "for i in range(len(name)):\n",
    "    # If it's the first character or the previous character is a space, add the uppercase letter to initials\n",
    "    if i == 0 or name[i-1] == ' ':\n",
    "        initials += name[i].upper() + \". \"\n",
    "\n",
    "# Print the initials\n",
    "print(initials)"
   ]
  },
  {
   "cell_type": "markdown",
   "metadata": {},
   "source": [
    "---"
   ]
  },
  {
   "cell_type": "markdown",
   "metadata": {},
   "source": [
    "7. A palindrome is a string that reads the same backward as forward. For example, the words dad, madam and radar are all palindromes. Write a programs that determines whether the string is a palindrome. "
   ]
  },
  {
   "cell_type": "code",
   "execution_count": 86,
   "metadata": {},
   "outputs": [
    {
     "name": "stdout",
     "output_type": "stream",
     "text": [
      "Given String is a Palindrome => madam\n"
     ]
    }
   ],
   "source": [
    "any_str = input('Enter any string to check..')\n",
    "reverseStr = any_str[::-1]\n",
    "if any_str == reverseStr:\n",
    "    print('Given String is a Palindrome =>', reverseStr)\n",
    "else:\n",
    "    print('Not A Palindrome =>',reverseStr)"
   ]
  },
  {
   "cell_type": "markdown",
   "metadata": {},
   "source": [
    "---"
   ]
  },
  {
   "cell_type": "markdown",
   "metadata": {},
   "source": [
    "8. Write a program that display following output:\n",
    "    - SHIFT\n",
    "    - HIFTS\n",
    "    - IFTSH\n",
    "    - FTSHI\n",
    "    - TSHIF\n",
    "    - SHIFT \n"
   ]
  },
  {
   "cell_type": "code",
   "execution_count": 91,
   "metadata": {},
   "outputs": [
    {
     "name": "stdout",
     "output_type": "stream",
     "text": [
      "SHIFT\n",
      "HIFTS\n",
      "IFTSH\n",
      "FTSHI\n",
      "TSHIF\n"
     ]
    }
   ],
   "source": [
    "# Original string\n",
    "word = \"SHIFT\"\n",
    "\n",
    "# Loop to display each shifted version of the string\n",
    "for i in range(len(word)):\n",
    "    shifted_word = word[i:] + word[:i]\n",
    "    print(shifted_word)"
   ]
  },
  {
   "cell_type": "markdown",
   "metadata": {},
   "source": [
    "---"
   ]
  },
  {
   "cell_type": "markdown",
   "metadata": {},
   "source": [
    "9. Write a program in python that accepts a string to setup a passwords. Your entered password must\n",
    "meet the following requirements:\n",
    "    - The password must be at least eight characters long.\n",
    "    - It must contain at least one uppercase letter.\n",
    "    - It must contain at least one lowercase letter.\n",
    "    - It must contain at least one numeric digit. <br/>\n",
    "Your program should should perform this validation. "
   ]
  },
  {
   "cell_type": "code",
   "execution_count": 95,
   "metadata": {},
   "outputs": [
    {
     "name": "stdout",
     "output_type": "stream",
     "text": [
      "Password is Set\n"
     ]
    }
   ],
   "source": [
    "password = input('Enter Password => ')\n",
    "\n",
    "# Check length and conditions\n",
    "if len(password) >= 8:\n",
    "    has_lower = any(char.islower() for char in password)\n",
    "    has_upper = any(char.isupper() for char in password)\n",
    "    has_digit = any(char.isdigit() for char in password)\n",
    "\n",
    "    if has_lower and has_upper and has_digit:\n",
    "        print(\"Password is Set\")\n",
    "    else:\n",
    "        print(\"Read Instructions again..\")\n",
    "else:\n",
    "    print(\"Password must be at least 8 characters long.\")\n"
   ]
  },
  {
   "cell_type": "code",
   "execution_count": null,
   "metadata": {},
   "outputs": [],
   "source": []
  }
 ],
 "metadata": {
  "kernelspec": {
   "display_name": "Python 3",
   "language": "python",
   "name": "python3"
  },
  "language_info": {
   "codemirror_mode": {
    "name": "ipython",
    "version": 3
   },
   "file_extension": ".py",
   "mimetype": "text/x-python",
   "name": "python",
   "nbconvert_exporter": "python",
   "pygments_lexer": "ipython3",
   "version": "3.12.3"
  }
 },
 "nbformat": 4,
 "nbformat_minor": 2
}
