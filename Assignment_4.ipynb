{
 "cells": [
  {
   "cell_type": "markdown",
   "metadata": {},
   "source": [
    "#### Assignment 4"
   ]
  },
  {
   "cell_type": "markdown",
   "metadata": {},
   "source": [
    "1. Write a program that accepts a list from user and print the alternate element of list. "
   ]
  },
  {
   "cell_type": "code",
   "execution_count": 7,
   "metadata": {},
   "outputs": [
    {
     "name": "stdout",
     "output_type": "stream",
     "text": [
      "User List => ['0', '9', '0', '0', '7', '8', 'a', 'b', 'c', 'd', 'e'] \n",
      "Alter_elem => ['0', '0', '7', 'a', 'c', 'e']\n"
     ]
    }
   ],
   "source": [
    "user_list = list(input('Enter Anything =>'))\n",
    "alter_elem = user_list[::2]\n",
    "print(f'User List => {user_list} \\nAlter_elem => {alter_elem}')"
   ]
  },
  {
   "cell_type": "markdown",
   "metadata": {},
   "source": [
    "---"
   ]
  },
  {
   "cell_type": "markdown",
   "metadata": {},
   "source": [
    "2. Write a program that accepts a list from user. Your program should reverse the content of list and display it. \n",
    "    - Do not use reverse() method"
   ]
  },
  {
   "cell_type": "code",
   "execution_count": 15,
   "metadata": {},
   "outputs": [
    {
     "name": "stdout",
     "output_type": "stream",
     "text": [
      "['D', 'C', 'B', 'A']\n"
     ]
    }
   ],
   "source": [
    "dummy_list = ['A','B','C','D']\n",
    "print(dummy_list[::-1])"
   ]
  },
  {
   "cell_type": "markdown",
   "metadata": {},
   "source": [
    "---"
   ]
  },
  {
   "cell_type": "markdown",
   "metadata": {},
   "source": [
    " 3. Find and display the largest number of a list without using built-in function max(). Your program should ask the user to input values in list from keyboard. \n"
   ]
  },
  {
   "cell_type": "code",
   "execution_count": 41,
   "metadata": {},
   "outputs": [
    {
     "name": "stdout",
     "output_type": "stream",
     "text": [
      "Num_List = [-11, 200, 36, -500]\n",
      "200\n"
     ]
    }
   ],
   "source": [
    "num_list = []\n",
    "\n",
    "# Taking Input from User..\n",
    "num_of_elem = int(input('ENter number of elements you want to enter in the list.. =>'))\n",
    "for elem in range(num_of_elem):\n",
    "    list_elem = int(input('Enter Elements for List =>'))\n",
    "    num_list.append(list_elem)\n",
    "\n",
    "print(f'Num_List = {num_list}')\n",
    "\n",
    "# Checking for Max value in List\n",
    "max_value = num_list[0]\n",
    "for i in num_list:\n",
    "    if i > max_value:\n",
    "        max_value = i\n",
    "    elif i < max_value:\n",
    "        # Do nothing; continue checking\n",
    "        pass\n",
    "print(max_value)"
   ]
  },
  {
   "cell_type": "markdown",
   "metadata": {},
   "source": [
    "---"
   ]
  },
  {
   "cell_type": "markdown",
   "metadata": {},
   "source": [
    "4. Write a program that rotates the element of a list so that the element at the first index moves to the\n",
    "second index, the element in the second index moves to the third index, etc., and the element in the last\n",
    "index moves to the first index. "
   ]
  },
  {
   "cell_type": "code",
   "execution_count": 53,
   "metadata": {},
   "outputs": [
    {
     "name": "stdout",
     "output_type": "stream",
     "text": [
      "Previous List => [3, 1, 2] \n",
      "Updated List => [3, 1, 2]\n"
     ]
    }
   ],
   "source": [
    "l2 = [1,2,3] # [3,1,2]\n",
    "\n",
    "l2.insert(0,l2[-1]) # first argument jis index pr hamain value chahiye, 2nd argument jo value chahiye.\n",
    "l2.pop(-1)\n",
    "print(f'Previous List => {l2} \\nUpdated List => {l2}')"
   ]
  },
  {
   "cell_type": "markdown",
   "metadata": {},
   "source": [
    "---"
   ]
  },
  {
   "cell_type": "markdown",
   "metadata": {},
   "source": [
    "5. Write a program that input a string and ask user to delete a given word from a string."
   ]
  },
  {
   "cell_type": "code",
   "execution_count": 65,
   "metadata": {},
   "outputs": [
    {
     "name": "stdout",
     "output_type": "stream",
     "text": [
      "User Entered String => usama is a good boy, \n",
      "Word To Delete  => usama is \n",
      "New String =>  A Good Boy\n"
     ]
    }
   ],
   "source": [
    "user_str = input('Enter Anything...').lower()\n",
    "word_to_delete = input('Enter word you want to Delete..').lower()\n",
    "\n",
    "if word_to_delete in user_str:\n",
    "    new_string = user_str.replace(word_to_delete,\"\").title()\n",
    "else: \n",
    "    print('word not found')\n",
    "\n",
    "print(f'User Entered String => {user_str}, \\nWord To Delete  => {word_to_delete} \\nNew String => {new_string}')\n"
   ]
  },
  {
   "cell_type": "markdown",
   "metadata": {},
   "source": [
    "---"
   ]
  },
  {
   "cell_type": "markdown",
   "metadata": {},
   "source": [
    "6. Write a program that reads a string from the user containing a date in the form mm/dd/yyyy. It\n",
    "should print the date in the form March 12, 2021. "
   ]
  },
  {
   "cell_type": "code",
   "execution_count": null,
   "metadata": {},
   "outputs": [],
   "source": [
    "# List of month names\n",
    "months = ['January', 'February', 'March', 'April', 'May', 'June', 'July', \n",
    "          'August', 'September', 'October', 'November', 'December']\n",
    "\n",
    "# Read input from user in the format mm/dd/yyyy\n",
    "input_date = input(\"Enter a date (mm/dd/yyyy): \")\n",
    "\n",
    "# Split the input into month, day, and year\n",
    "month, day, year = input_date.split('/')\n",
    "\n",
    "# Convert the month to an integer and subtract 1 (because list indices start from 0)\n",
    "month_name = months[int(month) - 1]\n",
    "\n",
    "# Convert and format the date\n",
    "formatted_date = f\"{month_name} {int(day)}, {year}\"\n",
    "\n",
    "# Output the formatted date\n",
    "print(\"Formatted date:\", formatted_date)"
   ]
  },
  {
   "cell_type": "markdown",
   "metadata": {},
   "source": [
    "---"
   ]
  },
  {
   "cell_type": "markdown",
   "metadata": {},
   "source": [
    "7. Write a program with a function that accepts a string from keyboard and create a new string after\n",
    "converting character of each word capitalized. For instance, if the sentence is \"stop and smell the roses.\"\n",
    "the output should be \"Stop And Smell The Roses\""
   ]
  },
  {
   "cell_type": "code",
   "execution_count": 3,
   "metadata": {},
   "outputs": [
    {
     "name": "stdout",
     "output_type": "stream",
     "text": [
      "Output => Hello World\n"
     ]
    }
   ],
   "source": [
    "user_input = input('Enter any sentence..')\n",
    "def title_capitalize(old_str):\n",
    "    new_str = old_str.title()\n",
    "    print(f\"Output => {new_str}\")\n",
    "\n",
    "title_capitalize(user_input)"
   ]
  },
  {
   "cell_type": "markdown",
   "metadata": {},
   "source": [
    "---"
   ]
  },
  {
   "cell_type": "markdown",
   "metadata": {},
   "source": [
    "8. Find the sum of each row of matrix of size m x n. For example for the following matrix output will be like this : \n",
    "- 2 11 7 12\n",
    "- 5 2 9 15\n",
    "- 8 3 10 42"
   ]
  },
  {
   "cell_type": "code",
   "execution_count": 4,
   "metadata": {},
   "outputs": [
    {
     "name": "stdout",
     "output_type": "stream",
     "text": [
      "[[2, 11, 7, 12], [5, 2, 9, 15], [8, 3, 10, 42]]\n"
     ]
    }
   ],
   "source": [
    "matrix =[\n",
    "    [2, 11,7, 12],\n",
    "    [5, 2, 9, 15],\n",
    "    [8, 3, 10, 42],\n",
    "]\n",
    "print(matrix)"
   ]
  },
  {
   "cell_type": "code",
   "execution_count": 10,
   "metadata": {},
   "outputs": [
    {
     "name": "stdout",
     "output_type": "stream",
     "text": [
      "Sum =>[2, 11, 7, 12] =  32\n",
      "Sum =>[5, 2, 9, 15] =  31\n",
      "Sum =>[8, 3, 10, 42] =  63\n"
     ]
    }
   ],
   "source": [
    "\n",
    "for row in matrix:\n",
    "    row_sum = sum(row)\n",
    "    print(f\"Sum =>{row} =  {row_sum}\")"
   ]
  },
  {
   "cell_type": "markdown",
   "metadata": {},
   "source": [
    "---"
   ]
  },
  {
   "cell_type": "markdown",
   "metadata": {},
   "source": [
    "9. Write a program to add two matrices of size n x m. "
   ]
  },
  {
   "cell_type": "code",
   "execution_count": 11,
   "metadata": {},
   "outputs": [
    {
     "name": "stdout",
     "output_type": "stream",
     "text": [
      "The sum of the two matrices is:\n",
      "[10, 10, 10]\n",
      "[10, 10, 10]\n",
      "[10, 10, 10]\n"
     ]
    }
   ],
   "source": [
    "# Input two matrices of fixed size\n",
    "matrix1 = [\n",
    "    [1, 2, 3],\n",
    "    [4, 5, 6],\n",
    "    [7, 8, 9]\n",
    "]\n",
    "\n",
    "matrix2 = [\n",
    "    [9, 8, 7],\n",
    "    [6, 5, 4],\n",
    "    [3, 2, 1]\n",
    "]\n",
    "\n",
    "# Initialize result matrix with zeros\n",
    "result = [[0, 0, 0],\n",
    "          [0, 0, 0],\n",
    "          [0, 0, 0]]\n",
    "\n",
    "# Add two matrices\n",
    "for i in range(3):\n",
    "    for j in range(3):\n",
    "        result[i][j] = matrix1[i][j] + matrix2[i][j]\n",
    "\n",
    "# Print result matrix\n",
    "print(\"The sum of the two matrices is:\")\n",
    "for row in result:\n",
    "    print(row)\n"
   ]
  },
  {
   "cell_type": "markdown",
   "metadata": {},
   "source": [
    "---"
   ]
  },
  {
   "cell_type": "markdown",
   "metadata": {},
   "source": [
    "10. Write a program to multiply two matrices "
   ]
  },
  {
   "cell_type": "code",
   "execution_count": 12,
   "metadata": {},
   "outputs": [
    {
     "name": "stdout",
     "output_type": "stream",
     "text": [
      "The sum of the two matrices is:\n",
      "[9, 16, 21]\n",
      "[24, 25, 24]\n",
      "[21, 16, 9]\n"
     ]
    }
   ],
   "source": [
    "# Input two matrices of fixed size\n",
    "matrix1 = [\n",
    "    [1, 2, 3],\n",
    "    [4, 5, 6],\n",
    "    [7, 8, 9]\n",
    "]\n",
    "\n",
    "matrix2 = [\n",
    "    [9, 8, 7],\n",
    "    [6, 5, 4],\n",
    "    [3, 2, 1]\n",
    "]\n",
    "\n",
    "# Initialize result matrix with zeros\n",
    "result = [[0, 0, 0],\n",
    "          [0, 0, 0],\n",
    "          [0, 0, 0]]\n",
    "\n",
    "# Add two matrices\n",
    "for i in range(3):\n",
    "    for j in range(3):\n",
    "        result[i][j] = matrix1[i][j] * matrix2[i][j]\n",
    "\n",
    "# Print result matrix\n",
    "print(\"The sum of the two matrices is:\")\n",
    "for row in result:\n",
    "    print(row)"
   ]
  },
  {
   "cell_type": "markdown",
   "metadata": {},
   "source": [
    "---"
   ]
  },
  {
   "cell_type": "code",
   "execution_count": null,
   "metadata": {},
   "outputs": [],
   "source": []
  }
 ],
 "metadata": {
  "kernelspec": {
   "display_name": "Python 3",
   "language": "python",
   "name": "python3"
  },
  "language_info": {
   "codemirror_mode": {
    "name": "ipython",
    "version": 3
   },
   "file_extension": ".py",
   "mimetype": "text/x-python",
   "name": "python",
   "nbconvert_exporter": "python",
   "pygments_lexer": "ipython3",
   "version": "3.12.3"
  }
 },
 "nbformat": 4,
 "nbformat_minor": 2
}
